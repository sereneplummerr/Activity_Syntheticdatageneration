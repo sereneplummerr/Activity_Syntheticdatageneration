{
 "cells": [
  {
   "cell_type": "markdown",
   "id": "10c59c9d-1455-4fa2-942c-ce93a9118ee8",
   "metadata": {},
   "source": [
    "## How to Interact with this Jupyter Notebook\n",
    "\n",
    "In this activity, you will use a Jupyter Notebook, which integrates both text and code. The gray boxes contain executable code, which you will run in order to view its output. The text in between the code provides instructions."
   ]
  },
  {
   "cell_type": "markdown",
   "id": "introduction",
   "metadata": {},
   "source": [
    "# Project: Synthetic Data Generation"
   ]
  },
  {
   "cell_type": "markdown",
   "id": "fa52c13f-87c8-4d6b-8ffb-d1c479695abc",
   "metadata": {},
   "source": [
    "## Step 1: Importing libraries \n",
    "Run the cell below.\n"
   ]
  },
  {
   "cell_type": "code",
   "execution_count": null,
   "id": "import-libraries",
   "metadata": {},
   "outputs": [],
   "source": [
    "# Import necessary libraries\n",
    "import numpy as np\n",
    "import pandas as pd\n",
    "import matplotlib.pyplot as plt\n",
    "%matplotlib inline\n",
    "\n",
    "from sklearn.model_selection import train_test_split\n",
    "from sklearn.linear_model import LogisticRegression\n",
    "from sklearn.metrics import (\n",
    "    accuracy_score,\n",
    "    precision_score,\n",
    "    recall_score,\n",
    "    roc_auc_score,\n",
    "    classification_report,\n",
    "    roc_curve,\n",
    ")\n",
    "\n",
    "# Import SMOTE\n",
    "!pip install imbalanced-learn\n",
    "from imblearn.over_sampling import SMOTE"
   ]
  },
  {
   "cell_type": "markdown",
   "id": "data-exploration",
   "metadata": {},
   "source": [
    "## Step 2: Load the dataset into a pandas DataFrame\n",
    "\n",
    "Follow the steps in the instructions document and run the cell below."
   ]
  },
  {
   "cell_type": "code",
   "execution_count": 24,
   "id": "load-data",
   "metadata": {},
   "outputs": [],
   "source": [
    "# insert code here \n",
    "\n",
    "# Use .read_csv() to load the 'diabetes.csv' file into a DataFrame named 'diabetes_data'.\n",
    "# insert code here "
   ]
  },
  {
   "cell_type": "markdown",
   "id": "d4e64d64-b91d-444b-907b-f4bae582b9b5",
   "metadata": {},
   "source": [
    "## Step 3: Check the data's dimensions\n",
    "\n",
    "Follow the steps in the instructions document and run the cell below."
   ]
  },
  {
   "cell_type": "code",
   "execution_count": null,
   "id": "3d09f79e-1bb7-48e6-a112-395db50115d0",
   "metadata": {},
   "outputs": [],
   "source": [
    "# Display the shape of the DataFrame (rows, columns)\n",
    "print(\"\\nShape of the DataFrame (rows, columns):\", diabetes_data.shape)"
   ]
  },
  {
   "cell_type": "markdown",
   "id": "906290c2-5778-4cbc-ace0-c421c728ec50",
   "metadata": {},
   "source": [
    "## Step 4: Preview the data\n",
    "\n",
    "Follow the steps in the instructions document and run the cell below."
   ]
  },
  {
   "cell_type": "code",
   "execution_count": null,
   "id": "preview-data",
   "metadata": {},
   "outputs": [
    {
     "data": {
      "text/html": [
       "<div>\n",
       "<style scoped>\n",
       "    .dataframe tbody tr th:only-of-type {\n",
       "        vertical-align: middle;\n",
       "    }\n",
       "\n",
       "    .dataframe tbody tr th {\n",
       "        vertical-align: top;\n",
       "    }\n",
       "\n",
       "    .dataframe thead th {\n",
       "        text-align: right;\n",
       "    }\n",
       "</style>\n",
       "<table border=\"1\" class=\"dataframe\">\n",
       "  <thead>\n",
       "    <tr style=\"text-align: right;\">\n",
       "      <th></th>\n",
       "      <th>Pregnancies</th>\n",
       "      <th>Glucose</th>\n",
       "      <th>BloodPressure</th>\n",
       "      <th>SkinThickness</th>\n",
       "      <th>Insulin</th>\n",
       "      <th>BMI</th>\n",
       "      <th>DiabetesPedigreeFunction</th>\n",
       "      <th>Age</th>\n",
       "      <th>Outcome</th>\n",
       "    </tr>\n",
       "  </thead>\n",
       "  <tbody>\n",
       "    <tr>\n",
       "      <th>0</th>\n",
       "      <td>6</td>\n",
       "      <td>148</td>\n",
       "      <td>72</td>\n",
       "      <td>35</td>\n",
       "      <td>0</td>\n",
       "      <td>33.6</td>\n",
       "      <td>0.627</td>\n",
       "      <td>50</td>\n",
       "      <td>1</td>\n",
       "    </tr>\n",
       "    <tr>\n",
       "      <th>1</th>\n",
       "      <td>1</td>\n",
       "      <td>85</td>\n",
       "      <td>66</td>\n",
       "      <td>29</td>\n",
       "      <td>0</td>\n",
       "      <td>26.6</td>\n",
       "      <td>0.351</td>\n",
       "      <td>31</td>\n",
       "      <td>0</td>\n",
       "    </tr>\n",
       "    <tr>\n",
       "      <th>2</th>\n",
       "      <td>8</td>\n",
       "      <td>183</td>\n",
       "      <td>64</td>\n",
       "      <td>0</td>\n",
       "      <td>0</td>\n",
       "      <td>23.3</td>\n",
       "      <td>0.672</td>\n",
       "      <td>32</td>\n",
       "      <td>1</td>\n",
       "    </tr>\n",
       "    <tr>\n",
       "      <th>3</th>\n",
       "      <td>1</td>\n",
       "      <td>89</td>\n",
       "      <td>66</td>\n",
       "      <td>23</td>\n",
       "      <td>94</td>\n",
       "      <td>28.1</td>\n",
       "      <td>0.167</td>\n",
       "      <td>21</td>\n",
       "      <td>0</td>\n",
       "    </tr>\n",
       "    <tr>\n",
       "      <th>4</th>\n",
       "      <td>0</td>\n",
       "      <td>137</td>\n",
       "      <td>40</td>\n",
       "      <td>35</td>\n",
       "      <td>168</td>\n",
       "      <td>43.1</td>\n",
       "      <td>2.288</td>\n",
       "      <td>33</td>\n",
       "      <td>1</td>\n",
       "    </tr>\n",
       "  </tbody>\n",
       "</table>\n",
       "</div>"
      ],
      "text/plain": [
       "   Pregnancies  Glucose  BloodPressure  SkinThickness  Insulin   BMI  \\\n",
       "0            6      148             72             35        0  33.6   \n",
       "1            1       85             66             29        0  26.6   \n",
       "2            8      183             64              0        0  23.3   \n",
       "3            1       89             66             23       94  28.1   \n",
       "4            0      137             40             35      168  43.1   \n",
       "\n",
       "   DiabetesPedigreeFunction  Age  Outcome  \n",
       "0                     0.627   50        1  \n",
       "1                     0.351   31        0  \n",
       "2                     0.672   32        1  \n",
       "3                     0.167   21        0  \n",
       "4                     2.288   33        1  "
      ]
     },
     "execution_count": 56,
     "metadata": {},
     "output_type": "execute_result"
    }
   ],
   "source": [
    "# Use head() to preview the diabetes_data DataFrame \n",
    "# insert code here "
   ]
  },
  {
   "cell_type": "markdown",
   "id": "8fa46624-bd8d-4fe5-ac72-754efb6c4819",
   "metadata": {},
   "source": [
    "## Step 5: Get a summary of the data\n",
    "\n",
    "Follow the steps in the instructions document and run the cell below."
   ]
  },
  {
   "cell_type": "code",
   "execution_count": null,
   "id": "data-info",
   "metadata": {},
   "outputs": [],
   "source": [
    "# Use info() to see detailed information about the diabetes_data DataFrame.\n",
    "# insert code here "
   ]
  },
  {
   "cell_type": "markdown",
   "id": "4c824da2-684f-4c26-8a3c-6d9121eed99d",
   "metadata": {},
   "source": [
    "## Step 6: Check for missing data\n",
    "\n",
    "Follow the steps in the instructions document and run the cell below."
   ]
  },
  {
   "cell_type": "code",
   "execution_count": null,
   "id": "check-missing-values",
   "metadata": {},
   "outputs": [],
   "source": [
    "# Check for missing values\n",
    "# insert code here "
   ]
  },
  {
   "cell_type": "markdown",
   "id": "data-description",
   "metadata": {},
   "source": [
    "It looks like our dataset is complete and has zeros for all columns. The  dataset has the following features:\n",
    "\n",
    "- **Pregnancies**: Number of times pregnant\n",
    "- **Glucose**: Plasma glucose concentration\n",
    "- **BloodPressure**: Diastolic blood pressure (mm Hg)\n",
    "- **SkinThickness**: Triceps skinfold thickness (mm)\n",
    "- **Insulin**: 2-Hour serum insulin (mu U/ml)\n",
    "- **BMI**: Body mass index (weight in kg/(height in m)^2)\n",
    "- **DiabetesPedigreeFunction**: Diabetes pedigree function\n",
    "- **Age**: Age (years)\n",
    "- **Outcome**: Class variable (0 or 1), where 1 means the patient has diabetes"
   ]
  },
  {
   "cell_type": "markdown",
   "id": "b3d35903-c908-4586-ab8c-8555b30337cf",
   "metadata": {},
   "source": [
    "## Step 7: Analyzing the class distribution for imbalance\n",
    "\n",
    "Follow the steps in the instructions document and run the cell below."
   ]
  },
  {
   "cell_type": "code",
   "execution_count": null,
   "id": "class-distribution",
   "metadata": {},
   "outputs": [],
   "source": [
    "# Analyze the class distribution\n",
    "class_counts = diabetes_data['Outcome'] # insert code here \n",
    "print(\"Class Distribution:\")\n",
    "print(class_counts)\n",
    "\n",
    "# Visualize the class distribution\n",
    "plt.bar(class_counts.index, class_counts.values, color='skyblue')\n",
    "# insert code here \n",
    "plt.xlabel('Outcome')  # Set x-axis label\n",
    "plt.ylabel('Count')  # Set y-axis labe\n",
    "# insert code here "
   ]
  },
  {
   "cell_type": "markdown",
   "id": "data-preprocessing",
   "metadata": {},
   "source": [
    "## Step 8: Separating features and target\n",
    "\n",
    "Follow the steps in the instructions document and run the cell below."
   ]
  },
  {
   "cell_type": "code",
   "execution_count": null,
   "id": "split-features-target",
   "metadata": {},
   "outputs": [],
   "source": [
    "# Features and target variable\n",
    "x = diabetes_data.drop('Outcome', axis=1)\n",
    "y = #insert code here\n",
    "\n",
    "# Split into training and testing sets with stratification\n",
    "x_train, x_test, y_train, y_test = train_test_split(\n",
    "    x, y, test_size=0.2, random_state=42, stratify=y\n",
    ")"
   ]
  },
  {
   "cell_type": "markdown",
   "id": "0fc47cbe-1763-4f0c-a910-ea77fd3b6f42",
   "metadata": {},
   "source": [
    "## Step 9: Standardize features (feature scaling)\n",
    "\n",
    "Follow the steps in the instructions document and run the cell below."
   ]
  },
  {
   "cell_type": "code",
   "execution_count": null,
   "id": "ebf2e4d5-6bf3-4253-8e70-d45f67473910",
   "metadata": {},
   "outputs": [],
   "source": [
    "# Feature scaling\n",
    "from sklearn.preprocessing import StandardScaler\n",
    "\n",
    "scaler = StandardScaler()\n",
    "\n",
    "# Fit only on training data\n",
    "x_train_scaled = scaler.fit_transform(x_train)\n",
    "x_test_scaled = scaler.transform(x_test)"
   ]
  },
  {
   "cell_type": "markdown",
   "id": "applying-smote",
   "metadata": {},
   "source": [
    "## Step 10: Apply SMOTE to the training data\n",
    "\n",
    "Follow the steps in the instructions document and run the cell below."
   ]
  },
  {
   "cell_type": "code",
   "execution_count": null,
   "id": "apply-smote",
   "metadata": {},
   "outputs": [],
   "source": [
    "# Apply SMOTE to the training data\n",
    "smote = SMOTE(random_state=42)\n",
    "x_train_smote, y_train_smote = smote #insert code here"
   ]
  },
  {
   "cell_type": "markdown",
   "id": "4fd3ec5a-0d8d-4f20-a55a-70058291ce6b",
   "metadata": {},
   "source": [
    "## Step 11: Visualizing class distribution after SMOTE\n",
    "\n",
    "Follow the steps in the instructions document and run the cell below."
   ]
  },
  {
   "cell_type": "code",
   "execution_count": null,
   "id": "smote-class-distribution",
   "metadata": {},
   "outputs": [],
   "source": [
    "# Check the new class distribution\n",
    "print(\"Before SMOTE:\")\n",
    "print(y_train.value_counts())\n",
    "\n",
    "print(\"\\nAfter SMOTE:\")\n",
    "print(y_train_smote.value_counts())\n",
    "\n",
    "# Visualize the new class distribution\n",
    "counts_before = y_train.value_counts()\n",
    "counts_after = y_train_smote.value_counts()\n",
    "\n",
    "plt.bar([0, 1], [counts_before.get(0, 0), counts_before.get(1, 0)], width=0.4, label='Before SMOTE', color='skyblue')\n",
    "plt.bar([0.4, 1.4], [counts_after.get(0, 0), counts_after.get(1, 0)], width=0.4, label='After SMOTE', color='lightgreen')\n",
    "\n",
    "plt.title('Class Distribution Before and After SMOTE')\n",
    "plt.xlabel('Outcome')\n",
    "plt.ylabel('Count')\n",
    "plt.xticks([0.2, 1.2], ['0', '1'])\n",
    "plt.legend()\n",
    "plt.show()"
   ]
  },
  {
   "cell_type": "markdown",
   "id": "post-smote",
   "metadata": {},
   "source": [
    "## Step 12: Initialize the logistic regression models\n",
    "\n",
    "Follow the steps in the instructions document and run the cell below."
   ]
  },
  {
   "cell_type": "code",
   "execution_count": null,
   "id": "initialize-models",
   "metadata": {},
   "outputs": [],
   "source": [
    "# Initialize the models\n",
    "model_orig = LogisticRegression(solver='liblinear', max_iter=200)\n",
    "model_smote = #insert code here"
   ]
  },
  {
   "cell_type": "markdown",
   "id": "6b3c0c4c-1759-4de6-9a8b-a2f83856dc19",
   "metadata": {},
   "source": [
    "## Step 13: Train the models\n",
    "\n",
    "Follow the steps in the instructions document and run the cell below."
   ]
  },
  {
   "cell_type": "code",
   "execution_count": null,
   "id": "train-models",
   "metadata": {},
   "outputs": [],
   "source": [
    "# Train the model on original data\n",
    "model_orig.fit(x_train_scaled, y_train)\n",
    "\n",
    "# Train the model on SMOTE data\n",
    "model_smote # insert code here"
   ]
  },
  {
   "cell_type": "markdown",
   "id": "e3d2eb95-ad42-4ef0-82dd-ac3482eda9a3",
   "metadata": {},
   "source": [
    "## Step 14: Make predictions and prepare to evaluate models \n",
    "\n",
    "Follow the steps in the instructions document and run the cell below."
   ]
  },
  {
   "cell_type": "code",
   "execution_count": null,
   "id": "make-predictions",
   "metadata": {},
   "outputs": [],
   "source": [
    "# Make predictions on the test set\n",
    "y_pred_orig = model_orig.predict(x_test_scaled)\n",
    "y_pred_smote = model_smote.predict(x_test_scaled)\n",
    "\n",
    "# Predictions probability for ROC-AUC\n",
    "y_prob_orig = model_orig.predict_proba(x_test_scaled)[:, 1]\n",
    "y_prob_smote = model_smote.predict_proba(x_test_scaled)[:, 1]\n",
    "\n",
    "# Evaluate the model's performance\n",
    "def evaluate_model(y_test, y_pred, y_prob):\n",
    "    print(\"Accuracy:\", round(accuracy_score(y_test, y_pred), 4))\n",
    "    print(\"Precision:\", round(precision_score(y_test, y_pred), 4))\n",
    "    print(\"Recall:\", round(recall_score(y_test, y_pred), 4))\n",
    "    print(\"ROC-AUC:\", round(roc_auc_score(y_test, y_prob), 4))\n",
    "    print(\"\\nClassification Report:\\n\", classification_report(y_test, y_pred))"
   ]
  },
  {
   "cell_type": "markdown",
   "id": "performance-original",
   "metadata": {},
   "source": [
    "## Step 15: Evaluate the model on original data\n",
    "\n",
    "Follow the steps in the instructions document and run the cell below."
   ]
  },
  {
   "cell_type": "code",
   "execution_count": null,
   "id": "evaluate-original",
   "metadata": {},
   "outputs": [],
   "source": [
    "print(\"Performance on Original Data:\")\n",
    "evaluate_model(y_test, y_pred_orig, y_prob_orig)"
   ]
  },
  {
   "cell_type": "markdown",
   "id": "performance-smote",
   "metadata": {},
   "source": [
    "## Step 16: Evaluate the model on SMOTE-augmented data\n",
    "\n",
    "Follow the steps in the instructions document and run the cell below."
   ]
  },
  {
   "cell_type": "code",
   "execution_count": null,
   "id": "evaluate-smote",
   "metadata": {},
   "outputs": [],
   "source": [
    "print(\"Performance on SMOTE Augmented Data:\")\n",
    "evaluate_model(y_test, y_pred_smote, y_prob_smote)"
   ]
  },
  {
   "cell_type": "markdown",
   "id": "roc-curves",
   "metadata": {},
   "source": [
    "## Step 17: Visualize and compare model performance\n",
    "\n",
    "Follow the steps in the instructions document and run the cell below."
   ]
  },
  {
   "cell_type": "code",
   "execution_count": null,
   "id": "plot-roc",
   "metadata": {},
   "outputs": [],
   "source": [
    "# Plot ROC curves\n",
    "fpr_orig, tpr_orig, _ = roc_curve(y_test, y_prob_orig)\n",
    "fpr_smote, tpr_smote, _ = roc_curve(y_test, y_prob_smote)\n",
    "\n",
    "plt.figure(figsize=(8, 6))\n",
    "plt.plot(fpr_orig, tpr_orig, label='Original Data')\n",
    "plt.plot(fpr_smote, tpr_smote, label='SMOTE Augmented Data')\n",
    "plt.plot([0, 1], [0, 1], 'k--')  # Diagonal line\n",
    "plt.xlabel('False Positive Rate')\n",
    "plt.ylabel('True Positive Rate')\n",
    "plt.title('ROC Curve Comparison')\n",
    "plt.legend()\n",
    "plt.show()"
   ]
  },
  {
   "cell_type": "markdown",
   "id": "conclusion",
   "metadata": {},
   "source": [
    "You have reached the end of this exercise."
   ]
  }
 ],
 "metadata": {
  "kernelspec": {
   "display_name": "base",
   "language": "python",
   "name": "python3"
  },
  "language_info": {
   "codemirror_mode": {
    "name": "ipython",
    "version": 3
   },
   "file_extension": ".py",
   "mimetype": "text/x-python",
   "name": "python",
   "nbconvert_exporter": "python",
   "pygments_lexer": "ipython3",
   "version": "3.12.7"
  }
 },
 "nbformat": 4,
 "nbformat_minor": 5
}
